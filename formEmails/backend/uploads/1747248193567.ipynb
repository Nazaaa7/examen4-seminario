{
 "cells": [
  {
   "cell_type": "markdown",
   "id": "a13a3b98",
   "metadata": {},
   "source": [
    "**Insertion Sort:** construye una lista ordenada elemento por elemento, tomando cada elemento de la lista desordenada y colocándolo en su posición correcta dentro de la lista ya ordenada.\n",
    "\n",
    "\n",
    "1. El algoritmo divide la lista en dos partes: una parte ordenada y una parte desordenada.\n",
    "2. Se toma el primer elemento de la lista desordenada y se busca su posición correcta dentro de la lista ordenada.\n",
    "3. Los elementos mayores que el elemento a insertar se desplazan hacia la derecha para crear espacio para él.\n",
    "4. El elemento se inserta en su posición correcta.\n",
    "5. Se repiten los pasos 2 a 4 para los elementos restantes de la lista desordenada. \n"
   ]
  },
  {
   "cell_type": "code",
   "execution_count": 1,
   "id": "ad924307",
   "metadata": {},
   "outputs": [
    {
     "name": "stdout",
     "output_type": "stream",
     "text": [
      "lista original: [8, 4, 3, 7, 6, 5, 2]\n",
      "ordenada con insertion sort: [2, 3, 4, 5, 6, 7, 8]\n"
     ]
    }
   ],
   "source": [
    "def insertion_sort(arr):\n",
    "    # recorre desde el segundo elemento hasta el final\n",
    "    for i in range(1, len(arr)):\n",
    "        key = arr[i]  # guarda el valor actual a insertar\n",
    "        j = i - 1     # índice del elemento anterior\n",
    "\n",
    "        # mueve los elementos mayores que key una posición adelante\n",
    "        while j >= 0 and arr[j] > key:\n",
    "            arr[j + 1] = arr[j]\n",
    "            j -= 1\n",
    "\n",
    "        # inserta la key en la posición correcta\n",
    "        arr[j + 1] = key\n",
    "\n",
    "    return arr  # devuelve la lista ordenada\n",
    "\n",
    "# ejemplo:\n",
    "lista = [8, 4, 3, 7, 6, 5, 2]\n",
    "print(\"lista original:\", lista)\n",
    "ordenada = insertion_sort(lista.copy())\n",
    "print(\"ordenada con insertion sort:\", ordenada)\n"
   ]
  },
  {
   "cell_type": "markdown",
   "id": "49fae481",
   "metadata": {},
   "source": [
    "**Bubble Sort:**  funciona comparando pares de elementos adyacentes y intercambiándolos si están en el orden incorrecto, repitiendo este proceso hasta que la lista esté ordenada.\n",
    " \n",
    "\n",
    "1. Se recorre la lista y se comparan elementos adyacentes.\n",
    "2. Si dos elementos están en el orden incorrecto (por ejemplo, el primer elemento es mayor que el segundo), se intercambian sus posiciones.\n",
    "3. Se repite el proceso de comparación e intercambio varias veces hasta que no se realicen más intercambios, lo que indica que la lista está ordenada. \n",
    "\n"
   ]
  },
  {
   "cell_type": "code",
   "execution_count": 2,
   "id": "bbef72eb",
   "metadata": {},
   "outputs": [
    {
     "name": "stdout",
     "output_type": "stream",
     "text": [
      "lista original: [8, 4, 3, 7, 6, 5, 2]\n",
      "ordenada con bubble sort: [2, 3, 4, 5, 6, 7, 8]\n"
     ]
    }
   ],
   "source": [
    "def bubble_sort(arr):\n",
    "    n = len(arr)\n",
    "\n",
    "    # se repite n veces\n",
    "    for i in range(n):\n",
    "        swapped = False  # bandera para detectar si hubo intercambio\n",
    "\n",
    "        # recorre el arreglo comparando pares de elementos\n",
    "        for j in range(0, n - i - 1):\n",
    "            if arr[j] > arr[j + 1]:\n",
    "                # intercambia si están en orden incorrecto\n",
    "                arr[j], arr[j + 1] = arr[j + 1], arr[j]\n",
    "                swapped = True  # se hizo al menos un cambio\n",
    "\n",
    "        # si no se hicieron cambios, ya está ordenado\n",
    "        if not swapped:\n",
    "            break\n",
    "\n",
    "    return arr  # devuelve la lista ordenada\n",
    "\n",
    "# ejemplo:\n",
    "lista = [8, 4, 3, 7, 6, 5, 2]\n",
    "print(\"lista original:\", lista)\n",
    "ordenada = bubble_sort(lista.copy())\n",
    "print(\"ordenada con bubble sort:\", ordenada)\n"
   ]
  }
 ],
 "metadata": {
  "kernelspec": {
   "display_name": "Python 3",
   "language": "python",
   "name": "python3"
  },
  "language_info": {
   "codemirror_mode": {
    "name": "ipython",
    "version": 3
   },
   "file_extension": ".py",
   "mimetype": "text/x-python",
   "name": "python",
   "nbconvert_exporter": "python",
   "pygments_lexer": "ipython3",
   "version": "3.13.2"
  }
 },
 "nbformat": 4,
 "nbformat_minor": 5
}
